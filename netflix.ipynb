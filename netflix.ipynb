{
 "cells": [
  {
   "cell_type": "code",
   "execution_count": 25,
   "metadata": {},
   "outputs": [],
   "source": [
    "import pandas as pd\n",
    "df1 = pd.read_csv('ViewingActivity.csv')\n",
    "df2 = pd.read_csv('NetflixViewingHistory.csv')\n",
    "pd.set_option(\"display.max_rows\", None)"
   ]
  },
  {
   "cell_type": "code",
   "execution_count": 9,
   "metadata": {},
   "outputs": [
    {
     "data": {
      "text/plain": [
       "(126, 10)"
      ]
     },
     "execution_count": 9,
     "metadata": {},
     "output_type": "execute_result"
    }
   ],
   "source": [
    "df1.shape\n"
   ]
  },
  {
   "cell_type": "code",
   "execution_count": 8,
   "metadata": {},
   "outputs": [
    {
     "data": {
      "text/plain": [
       "(5591, 2)"
      ]
     },
     "execution_count": 8,
     "metadata": {},
     "output_type": "execute_result"
    }
   ],
   "source": [
    "df2.shape"
   ]
  },
  {
   "cell_type": "code",
   "execution_count": 11,
   "metadata": {},
   "outputs": [
    {
     "data": {
      "text/html": [
       "<div>\n",
       "<style scoped>\n",
       "    .dataframe tbody tr th:only-of-type {\n",
       "        vertical-align: middle;\n",
       "    }\n",
       "\n",
       "    .dataframe tbody tr th {\n",
       "        vertical-align: top;\n",
       "    }\n",
       "\n",
       "    .dataframe thead th {\n",
       "        text-align: right;\n",
       "    }\n",
       "</style>\n",
       "<table border=\"1\" class=\"dataframe\">\n",
       "  <thead>\n",
       "    <tr style=\"text-align: right;\">\n",
       "      <th></th>\n",
       "      <th>Profile Name</th>\n",
       "      <th>Start Time</th>\n",
       "      <th>Duration</th>\n",
       "      <th>Attributes</th>\n",
       "      <th>Title</th>\n",
       "      <th>Supplemental Video Type</th>\n",
       "      <th>Device Type</th>\n",
       "      <th>Bookmark</th>\n",
       "      <th>Latest Bookmark</th>\n",
       "      <th>Country</th>\n",
       "    </tr>\n",
       "  </thead>\n",
       "  <tbody>\n",
       "    <tr>\n",
       "      <th>0</th>\n",
       "      <td>ZAUSKIHAUS</td>\n",
       "      <td>2023-08-09 10:09:43</td>\n",
       "      <td>00:08:58</td>\n",
       "      <td>NaN</td>\n",
       "      <td>Suits: Season 2: Normandy (Episode 15)</td>\n",
       "      <td>NaN</td>\n",
       "      <td>iPhone 12 Pro</td>\n",
       "      <td>00:15:00</td>\n",
       "      <td>00:15:00</td>\n",
       "      <td>US (United States)</td>\n",
       "    </tr>\n",
       "  </tbody>\n",
       "</table>\n",
       "</div>"
      ],
      "text/plain": [
       "  Profile Name           Start Time  Duration Attributes  \\\n",
       "0   ZAUSKIHAUS  2023-08-09 10:09:43  00:08:58        NaN   \n",
       "\n",
       "                                    Title Supplemental Video Type  \\\n",
       "0  Suits: Season 2: Normandy (Episode 15)                     NaN   \n",
       "\n",
       "     Device Type  Bookmark Latest Bookmark             Country  \n",
       "0  iPhone 12 Pro  00:15:00        00:15:00  US (United States)  "
      ]
     },
     "execution_count": 11,
     "metadata": {},
     "output_type": "execute_result"
    }
   ],
   "source": [
    "df1.head(1)\n"
   ]
  },
  {
   "cell_type": "code",
   "execution_count": 10,
   "metadata": {},
   "outputs": [
    {
     "data": {
      "text/html": [
       "<div>\n",
       "<style scoped>\n",
       "    .dataframe tbody tr th:only-of-type {\n",
       "        vertical-align: middle;\n",
       "    }\n",
       "\n",
       "    .dataframe tbody tr th {\n",
       "        vertical-align: top;\n",
       "    }\n",
       "\n",
       "    .dataframe thead th {\n",
       "        text-align: right;\n",
       "    }\n",
       "</style>\n",
       "<table border=\"1\" class=\"dataframe\">\n",
       "  <thead>\n",
       "    <tr style=\"text-align: right;\">\n",
       "      <th></th>\n",
       "      <th>Title</th>\n",
       "      <th>Date</th>\n",
       "    </tr>\n",
       "  </thead>\n",
       "  <tbody>\n",
       "    <tr>\n",
       "      <th>0</th>\n",
       "      <td>S.W.A.T.: Season 4: 3 Seventeen Year Olds</td>\n",
       "      <td>7/20/2023</td>\n",
       "    </tr>\n",
       "  </tbody>\n",
       "</table>\n",
       "</div>"
      ],
      "text/plain": [
       "                                       Title       Date\n",
       "0  S.W.A.T.: Season 4: 3 Seventeen Year Olds  7/20/2023"
      ]
     },
     "execution_count": 10,
     "metadata": {},
     "output_type": "execute_result"
    }
   ],
   "source": [
    "df2.head(1)"
   ]
  },
  {
   "cell_type": "markdown",
   "metadata": {},
   "source": [
    "Dropping Uneccesary columns"
   ]
  },
  {
   "cell_type": "code",
   "execution_count": 12,
   "metadata": {},
   "outputs": [
    {
     "data": {
      "text/html": [
       "<div>\n",
       "<style scoped>\n",
       "    .dataframe tbody tr th:only-of-type {\n",
       "        vertical-align: middle;\n",
       "    }\n",
       "\n",
       "    .dataframe tbody tr th {\n",
       "        vertical-align: top;\n",
       "    }\n",
       "\n",
       "    .dataframe thead th {\n",
       "        text-align: right;\n",
       "    }\n",
       "</style>\n",
       "<table border=\"1\" class=\"dataframe\">\n",
       "  <thead>\n",
       "    <tr style=\"text-align: right;\">\n",
       "      <th></th>\n",
       "      <th>Start Time</th>\n",
       "      <th>Duration</th>\n",
       "      <th>Title</th>\n",
       "    </tr>\n",
       "  </thead>\n",
       "  <tbody>\n",
       "    <tr>\n",
       "      <th>0</th>\n",
       "      <td>2023-08-09 10:09:43</td>\n",
       "      <td>00:08:58</td>\n",
       "      <td>Suits: Season 2: Normandy (Episode 15)</td>\n",
       "    </tr>\n",
       "  </tbody>\n",
       "</table>\n",
       "</div>"
      ],
      "text/plain": [
       "            Start Time  Duration                                   Title\n",
       "0  2023-08-09 10:09:43  00:08:58  Suits: Season 2: Normandy (Episode 15)"
      ]
     },
     "execution_count": 12,
     "metadata": {},
     "output_type": "execute_result"
    }
   ],
   "source": [
    "df1 = df1.drop(['Profile Name', 'Attributes', 'Supplemental Video Type', 'Device Type', 'Bookmark', 'Latest Bookmark', 'Country'], axis=1)\n",
    "df1.head(1)"
   ]
  },
  {
   "cell_type": "markdown",
   "metadata": {},
   "source": [
    "Understanding the remaining data types"
   ]
  },
  {
   "cell_type": "code",
   "execution_count": 13,
   "metadata": {},
   "outputs": [
    {
     "data": {
      "text/plain": [
       "Start Time    object\n",
       "Duration      object\n",
       "Title         object\n",
       "dtype: object"
      ]
     },
     "execution_count": 13,
     "metadata": {},
     "output_type": "execute_result"
    }
   ],
   "source": [
    "df1.dtypes"
   ]
  },
  {
   "cell_type": "code",
   "execution_count": 29,
   "metadata": {},
   "outputs": [
    {
     "data": {
      "text/plain": [
       "Title            object\n",
       "Date     datetime64[ns]\n",
       "dtype: object"
      ]
     },
     "execution_count": 29,
     "metadata": {},
     "output_type": "execute_result"
    }
   ],
   "source": [
    "df2.dtypes"
   ]
  },
  {
   "cell_type": "markdown",
   "metadata": {},
   "source": [
    "Converting start time into real time"
   ]
  },
  {
   "cell_type": "code",
   "execution_count": 16,
   "metadata": {},
   "outputs": [
    {
     "data": {
      "text/plain": [
       "Start Time    datetime64[ns, UTC]\n",
       "Duration                   object\n",
       "Title                      object\n",
       "dtype: object"
      ]
     },
     "execution_count": 16,
     "metadata": {},
     "output_type": "execute_result"
    }
   ],
   "source": [
    "df1['Start Time'] = pd.to_datetime(df1['Start Time'], utc=True)\n",
    "df1.dtypes"
   ]
  },
  {
   "cell_type": "code",
   "execution_count": 27,
   "metadata": {},
   "outputs": [
    {
     "data": {
      "text/plain": [
       "Title            object\n",
       "Date     datetime64[ns]\n",
       "dtype: object"
      ]
     },
     "execution_count": 27,
     "metadata": {},
     "output_type": "execute_result"
    }
   ],
   "source": [
    "df2['Date'] = pd.to_datetime(df2['Date'])\n",
    "df2.dtypes"
   ]
  },
  {
   "cell_type": "markdown",
   "metadata": {},
   "source": [
    "Change to local time"
   ]
  },
  {
   "cell_type": "code",
   "execution_count": 17,
   "metadata": {},
   "outputs": [
    {
     "data": {
      "text/html": [
       "<div>\n",
       "<style scoped>\n",
       "    .dataframe tbody tr th:only-of-type {\n",
       "        vertical-align: middle;\n",
       "    }\n",
       "\n",
       "    .dataframe tbody tr th {\n",
       "        vertical-align: top;\n",
       "    }\n",
       "\n",
       "    .dataframe thead th {\n",
       "        text-align: right;\n",
       "    }\n",
       "</style>\n",
       "<table border=\"1\" class=\"dataframe\">\n",
       "  <thead>\n",
       "    <tr style=\"text-align: right;\">\n",
       "      <th></th>\n",
       "      <th>Start Time</th>\n",
       "      <th>Duration</th>\n",
       "      <th>Title</th>\n",
       "    </tr>\n",
       "  </thead>\n",
       "  <tbody>\n",
       "    <tr>\n",
       "      <th>0</th>\n",
       "      <td>2023-08-09 06:09:43-04:00</td>\n",
       "      <td>00:08:58</td>\n",
       "      <td>Suits: Season 2: Normandy (Episode 15)</td>\n",
       "    </tr>\n",
       "  </tbody>\n",
       "</table>\n",
       "</div>"
      ],
      "text/plain": [
       "                 Start Time  Duration                                   Title\n",
       "0 2023-08-09 06:09:43-04:00  00:08:58  Suits: Season 2: Normandy (Episode 15)"
      ]
     },
     "execution_count": 17,
     "metadata": {},
     "output_type": "execute_result"
    }
   ],
   "source": [
    "# change the Start Time column into the dataframe's index\n",
    "df1 = df1.set_index('Start Time')\n",
    "\n",
    "# convert from UTC timezone to eastern time\n",
    "df1.index = df1.index.tz_convert('US/Eastern')\n",
    "\n",
    "# reset the index so that Start Time becomes a column again\n",
    "df1 = df1.reset_index()\n",
    "\n",
    "#double-check that it worked\n",
    "df1.head(1)"
   ]
  },
  {
   "cell_type": "markdown",
   "metadata": {},
   "source": [
    "Change duration to delta time"
   ]
  },
  {
   "cell_type": "code",
   "execution_count": 18,
   "metadata": {},
   "outputs": [
    {
     "data": {
      "text/plain": [
       "Start Time    datetime64[ns, US/Eastern]\n",
       "Duration                 timedelta64[ns]\n",
       "Title                             object\n",
       "dtype: object"
      ]
     },
     "execution_count": 18,
     "metadata": {},
     "output_type": "execute_result"
    }
   ],
   "source": [
    "df1['Duration'] = pd.to_timedelta(df1['Duration'])\n",
    "df1.dtypes"
   ]
  },
  {
   "cell_type": "code",
   "execution_count": 26,
   "metadata": {},
   "outputs": [
    {
     "data": {
      "text/plain": [
       "Title\n",
       "Suits: Season 1_hook_primary_16x9                          6\n",
       "Suits: Season 2: Meet the New Boss (Episode 3)             5\n",
       "Suits: Season 2: Zane Vs. Zane (Episode 13)                4\n",
       "Suits: Season 1: The Shelf Life (Episode 10)               4\n",
       "S.W.A.T.: Season 5: Madrugada (Episode 2)                  4\n",
       "Suits: Season 2: He's Back (Episode 14)                    3\n",
       "Suits: Season 1: Tricks of the Trade (Episode 6)           3\n",
       "The Fast and the Furious_hook_04_16x9                      3\n",
       "Suits: Season 1: Rules of the Game (Episode 11)            3\n",
       "Suits: Season 1: Bail Out (Episode 5)                      3\n",
       "Suits: Season 1: Errors and Omissions (Episode 2)          3\n",
       "Suits: Season 1: Dirty Little Secrets (Episode 4)          3\n",
       "S.W.A.T.: Season 4: Buried (Episode 10)                    3\n",
       "Suits: Season 2: She Knows (Episode 1)                     3\n",
       "S.W.A.T.: Season 4: Fracture (Episode 5)                   2\n",
       "S.W.A.T.: Season 4: The Black Hand Man (Episode 3)         2\n",
       "Suits: Season 1: Identity Crisis (Episode 8)               2\n",
       "Black Mirror: Season 6: Joan Is Awful (Episode 1)          2\n",
       "S.W.A.T.: Season 5: 27 David (Episode 3)                   2\n",
       "Suits: Season 2: All In (Episode 6)                        2\n",
       "S.W.A.T.: Season 4: Veritas Vincit (Episode 18)            2\n",
       "Suits: Season 2: Blind-Sided (Episode 11)                  2\n",
       "Suits: Season 1: Dog Fight (Episode 12)                    2\n",
       "S.W.A.T.: Season 4: Hopeless Sinners (Episode 6)           2\n",
       "S.W.A.T.: Season 5: Three Guns (Episode 10)                2\n",
       "Suits: Season 1: Play the Man (Episode 7)                  2\n",
       "S.W.A.T.: Season 4: Next of Kin (Episode 9)                2\n",
       "Suits: Season 1: Pilot Part 1 & 2 (Episode 1)              2\n",
       "S.W.A.T.: Season 4: Crusade (Episode 8)                    2\n",
       "Suits: Season 2: Normandy (Episode 15)                     2\n",
       "Suits: Season 1: Inside Track (Episode 3)                  1\n",
       "Black Mirror: Season 1: The National Anthem (Episode 1)    1\n",
       "Suits: Season 1: Undefeated (Episode 9)                    1\n",
       "Suits: Season 2: Asterisk (Episode 9)                      1\n",
       "Suits: Season 2: Break Point (Episode 5)                   1\n",
       "Suits: Season 2: Discovery (Episode 4)                     1\n",
       "Suits: Season 2: High Noon (Episode 10)                    1\n",
       "Suits: Season 2: Rewind (Episode 8)                        1\n",
       "Suits: Season 2: Sucker Punch (Episode 7)                  1\n",
       "Suits: Season 2: The Choice (Episode 2)                    1\n",
       "Suits: Season 6_hook_primary_16x9                          1\n",
       "Suits: Season 2: Blood in the Water (Episode 12)           1\n",
       "Season 1 Teaser: Zombieverse                               1\n",
       "Streamberry Presents                                       1\n",
       "S.W.A.T.: Season 4: Stakeout (Episode 2)                   1\n",
       "Black Mirror: Season 6 (Teaser 1)                          1\n",
       "Fatale_hook_03_16x9                                        1\n",
       "Madam Secretary: Season 1 - CLM 11                         1\n",
       "Miami Vice_hook_primary_16x9                               1\n",
       "New Amsterdam: Season 1_hook_primary_16x9                  1\n",
       "Plot Clip: Extraction 2                                    1\n",
       "S.W.A.T.: Season 4: 3 Seventeen Year Olds (Episode 1)      1\n",
       "S.W.A.T.: Season 4: Local Heroes (Episode 15)              1\n",
       "S.W.A.T.: Season 4: Lockdown (Episode 16)                  1\n",
       "S.W.A.T.: Season 4: Memento Mori (Episode 4)               1\n",
       "S.W.A.T.: Season 4: Positive Thinking (Episode 11)         1\n",
       "S.W.A.T.: Season 4: Reckoning (Episode 14)                 1\n",
       "S.W.A.T.: Season 4: Sins of the Fathers (Episode 13)       1\n",
       "S.W.A.T.: Season 4: U-Turn (Episode 12)                    1\n",
       "Season 6 Trailer: Black Mirror                             1\n",
       "S.W.A.T.: Season 4: Under Fire (Episode 7)                 1\n",
       "S.W.A.T.: Season 4: Whistleblower (Episode 17)             1\n",
       "S.W.A.T.: Season 5: Crisis Actor (Episode 6)               1\n",
       "S.W.A.T.: Season 5: Keep the Faith (Episode 7)             1\n",
       "S.W.A.T.: Season 5: Safe House (Episode 8)                 1\n",
       "S.W.A.T.: Season 5: Sentinel (Episode 4)                   1\n",
       "S.W.A.T.: Season 5: Survive (Episode 9)                    1\n",
       "S.W.A.T.: Season 5: Vagabundo (Episode 1)                  1\n",
       "S.W.A.T.: Season 5: West Coast Offense (Episode 5)         1\n",
       "Black Mirror: Season 6 (Episode Title Reveal)              1\n",
       "Season 3 Teaser 2: You                                     1\n",
       "Season 6 Main Character Intro Clip: Black Mirror           1\n",
       "Season 6 Teaser 2: Black Mirror                            1\n",
       "The River Wild (2023)_hook_05_16x9                         1\n",
       "Name: count, dtype: int64"
      ]
     },
     "execution_count": 26,
     "metadata": {},
     "output_type": "execute_result"
    }
   ],
   "source": [
    "df1.value_counts('Title')\n"
   ]
  },
  {
   "cell_type": "code",
   "execution_count": 30,
   "metadata": {},
   "outputs": [
    {
     "data": {
      "text/plain": [
       "(384, 2)"
      ]
     },
     "execution_count": 30,
     "metadata": {},
     "output_type": "execute_result"
    }
   ],
   "source": [
    "office = df2[df2['Title'].str.contains('The Office (U.S.)', regex=False)]\n",
    "office.shape"
   ]
  },
  {
   "cell_type": "markdown",
   "metadata": {},
   "source": [
    "which days of the week do you watch the most office"
   ]
  },
  {
   "cell_type": "code",
   "execution_count": 70,
   "metadata": {},
   "outputs": [
    {
     "name": "stderr",
     "output_type": "stream",
     "text": [
      "C:\\Users\\dzaus\\AppData\\Local\\Temp\\ipykernel_1776\\2770388298.py:2: SettingWithCopyWarning: \n",
      "A value is trying to be set on a copy of a slice from a DataFrame.\n",
      "Try using .loc[row_indexer,col_indexer] = value instead\n",
      "\n",
      "See the caveats in the documentation: https://pandas.pydata.org/pandas-docs/stable/user_guide/indexing.html#returning-a-view-versus-a-copy\n",
      "  office['Weekday'] = office['Date'].dt.day_name()\n"
     ]
    },
    {
     "data": {
      "text/html": [
       "<div>\n",
       "<style scoped>\n",
       "    .dataframe tbody tr th:only-of-type {\n",
       "        vertical-align: middle;\n",
       "    }\n",
       "\n",
       "    .dataframe tbody tr th {\n",
       "        vertical-align: top;\n",
       "    }\n",
       "\n",
       "    .dataframe thead th {\n",
       "        text-align: right;\n",
       "    }\n",
       "</style>\n",
       "<table border=\"1\" class=\"dataframe\">\n",
       "  <thead>\n",
       "    <tr style=\"text-align: right;\">\n",
       "      <th></th>\n",
       "      <th>Title</th>\n",
       "      <th>Date</th>\n",
       "      <th>weekday</th>\n",
       "      <th>Weekday</th>\n",
       "    </tr>\n",
       "  </thead>\n",
       "  <tbody>\n",
       "    <tr>\n",
       "      <th>3341</th>\n",
       "      <td>The Office (U.S.): Basketball</td>\n",
       "      <td>2017-05-10</td>\n",
       "      <td>2</td>\n",
       "      <td>Wednesday</td>\n",
       "    </tr>\n",
       "    <tr>\n",
       "      <th>3342</th>\n",
       "      <td>The Office (U.S.): The Alliance</td>\n",
       "      <td>2017-05-10</td>\n",
       "      <td>2</td>\n",
       "      <td>Wednesday</td>\n",
       "    </tr>\n",
       "    <tr>\n",
       "      <th>3343</th>\n",
       "      <td>The Office (U.S.): Health Care</td>\n",
       "      <td>2017-05-10</td>\n",
       "      <td>2</td>\n",
       "      <td>Wednesday</td>\n",
       "    </tr>\n",
       "    <tr>\n",
       "      <th>3344</th>\n",
       "      <td>The Office (U.S.): Diversity Day</td>\n",
       "      <td>2017-05-10</td>\n",
       "      <td>2</td>\n",
       "      <td>Wednesday</td>\n",
       "    </tr>\n",
       "    <tr>\n",
       "      <th>3345</th>\n",
       "      <td>The Office (U.S.): Pilot</td>\n",
       "      <td>2017-05-10</td>\n",
       "      <td>2</td>\n",
       "      <td>Wednesday</td>\n",
       "    </tr>\n",
       "  </tbody>\n",
       "</table>\n",
       "</div>"
      ],
      "text/plain": [
       "                                 Title       Date weekday    Weekday\n",
       "3341     The Office (U.S.): Basketball 2017-05-10       2  Wednesday\n",
       "3342   The Office (U.S.): The Alliance 2017-05-10       2  Wednesday\n",
       "3343    The Office (U.S.): Health Care 2017-05-10       2  Wednesday\n",
       "3344  The Office (U.S.): Diversity Day 2017-05-10       2  Wednesday\n",
       "3345          The Office (U.S.): Pilot 2017-05-10       2  Wednesday"
      ]
     },
     "execution_count": 70,
     "metadata": {},
     "output_type": "execute_result"
    }
   ],
   "source": [
    "office.drop(['weekday', 'Weekday'], axis = 1)\n",
    "office['Weekday'] = office['Date'].dt.day_name()\n",
    "office.head()\n",
    "office.tail()"
   ]
  },
  {
   "cell_type": "code",
   "execution_count": 61,
   "metadata": {},
   "outputs": [],
   "source": [
    "%matplotlib inline\n",
    "import matplotlib\n",
    "import seaborn as sns\n"
   ]
  },
  {
   "cell_type": "code",
   "execution_count": 71,
   "metadata": {},
   "outputs": [
    {
     "name": "stderr",
     "output_type": "stream",
     "text": [
      "C:\\Users\\dzaus\\AppData\\Local\\Temp\\ipykernel_1776\\105291341.py:2: SettingWithCopyWarning: \n",
      "A value is trying to be set on a copy of a slice from a DataFrame.\n",
      "Try using .loc[row_indexer,col_indexer] = value instead\n",
      "\n",
      "See the caveats in the documentation: https://pandas.pydata.org/pandas-docs/stable/user_guide/indexing.html#returning-a-view-versus-a-copy\n",
      "  office['weekday'] = pd.Categorical(office['weekday'], categories=\n"
     ]
    },
    {
     "data": {
      "text/plain": [
       "<Axes: title={'center': 'Office Episodes Watched by Day 2017-2022'}, xlabel='weekday'>"
      ]
     },
     "execution_count": 71,
     "metadata": {},
     "output_type": "execute_result"
    },
    {
     "data": {
      "image/png": "[encoded data removed]",
      "text/plain": [
       "<Figure size 2000x1000 with 1 Axes>"
      ]
     },
     "metadata": {},
     "output_type": "display_data"
    }
   ],
   "source": [
    "\n",
    "# set our categorical and define the order so the days are plotted Monday-Sunday\n",
    "office['weekday'] = pd.Categorical(office['weekday'], categories=\n",
    "    [0,1,2,3,4,5,6],\n",
    "    ordered=True)\n",
    "\n",
    "# create office_by_day and count the rows for each weekday, assigning the result to that variable\n",
    "office_by_day = office['weekday'].value_counts()\n",
    "\n",
    "# sort the index using our categorical, so that Monday (0) is first, Tuesday (1) is second, etc.\n",
    "office_by_day = office_by_day.sort_index()\n",
    "\n",
    "# optional: update the font size to make it a bit larger and easier to read\n",
    "matplotlib.rcParams.update({'font.size': 22})\n",
    "\n",
    "# plot office_by_day as a bar chart with the listed size and title\n",
    "office_by_day.plot(kind='bar', figsize=(20,10), title='Office Episodes Watched by Day 2017-2022')"
   ]
  }
 ],
 "metadata": {
  "kernelspec": {
   "display_name": "Python 3",
   "language": "python",
   "name": "python3"
  },
  "language_info": {
   "codemirror_mode": {
    "name": "ipython",
    "version": 3
   },
   "file_extension": ".py",
   "mimetype": "text/x-python",
   "name": "python",
   "nbconvert_exporter": "python",
   "pygments_lexer": "ipython3",
   "version": "3.11.2"
  }
 },
 "nbformat": 4,
 "nbformat_minor": 2
}
